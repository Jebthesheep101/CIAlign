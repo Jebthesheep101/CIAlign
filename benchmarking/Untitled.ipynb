{
 "cells": [
  {
   "cell_type": "code",
   "execution_count": 166,
   "metadata": {},
   "outputs": [],
   "source": [
    "import pandas as pd\n",
    "import numpy as np\n",
    "import matplotlib\n",
    "import matplotlib.pyplot as plt\n",
    "%matplotlib inline\n",
    "import glob\n",
    "import re\n",
    "import os\n",
    "import sys\n",
    "sys.path.insert(0, \"/home/katy/CIAlign/CIAlign\")\n",
    "import CIAlign\n",
    "import utilityFunctions\n",
    "import importlib\n",
    "importlib.reload(utilityFunctions)\n",
    "import copy"
   ]
  },
  {
   "cell_type": "code",
   "execution_count": 419,
   "metadata": {},
   "outputs": [],
   "source": [
    "def TC_score(benchmark_path, test_path, cleaned=False, cialign_removed=None):\n",
    "    '''\n",
    "    Calculates the TC score described in Blackburn and Whealan 2012 to compare a test alignment\n",
    "    with a benchmark \"true\" alignment.\n",
    "    The score is the number of columns which are present in both alignments divided by\n",
    "    the total number of columns in the true alignment.\n",
    "    \n",
    "    A correct column can be at a different position in the alignment but must consist of\n",
    "    the residues from the same position as in the original alignment\n",
    "    e.g.\n",
    "    input\n",
    "    ATCGG\n",
    "    AGCC\n",
    "\n",
    "    benchmark alignment\n",
    "    ATC-GG\n",
    "    A-G-CC\n",
    "    \n",
    "    test alignment\n",
    "    A-T-CGG\n",
    "    AG---CC\n",
    "\n",
    "    Each non-gap position is given an integer representing its position in the sequence,\n",
    "    excluding gaps:\n",
    "    \n",
    "    benchmark alignment\n",
    "    ATCGG : 1 2 3 4 5\n",
    "    A-GCC : 1 0 2 3 4\n",
    "    \n",
    "    test alignment\n",
    "    A-TCGG : 1 0 2 3 4 5\n",
    "    AG--CC : 1 2 0 0 3 4\n",
    "    \n",
    "    Common columns from these sets of integers are then identified\n",
    "    \n",
    "    1-1, 4-3 and 5-4 are in both - so 3 columns are present in both alignments.\n",
    "    \n",
    "    The benchmark alignment has 5 total columns so the score would be 3/5\n",
    "    \n",
    "    Where alignments have been cleaned with CIAlign, ! symbols are inserted to allow this indexing to\n",
    "    be accurate\n",
    "    \n",
    "    e.g.\n",
    "    input\n",
    "    ATCGG\n",
    "    AGCC\n",
    "\n",
    "    benchmark alignment\n",
    "    ATC-GG\n",
    "    A-G-CC\n",
    "    \n",
    "    test alignment\n",
    "    A-T-CGG\n",
    "    AG---CC\n",
    "    \n",
    "    cialign cleaned test alignment\n",
    "    -T-CGG\n",
    "    G---CC\n",
    "    \n",
    "    stored temporarily as\n",
    "    !-T-CGG\n",
    "    !G---CC\n",
    "    \n",
    "    '''\n",
    "    arr_benchmark, nams_benchmark = utilityFunctions.FastaToArray(benchmark_path)\n",
    "    arr_test, nams_test = utilityFunctions.FastaToArray(test_path)\n",
    "    if cleaned:\n",
    "        arr_test = find_removed(cialign_removed, arr_test, nams_test)\n",
    "    pos_benchmark = np.cumsum(arr_benchmark != \"-\", 1)\n",
    "    pos_benchmark[arr_benchmark == \"-\"] = 0\n",
    "    pos_test = np.cumsum(arr_test != \"-\", 1)\n",
    "    pos_test[arr_test == \"-\"] = 0\n",
    "    pos_test[arr_test == \"!\"] = 9999\n",
    "    S_orig = set(np.apply_along_axis(lambda x: \"_\".join(x), 0, pos_benchmark.astype(str)))\n",
    "    S_new = set(np.apply_along_axis(lambda x: \"_\".join(x), 0, pos_test.astype(str)))\n",
    "    return (len(S_new & S_orig), S_new, arr_test, pos_test)"
   ]
  },
  {
   "cell_type": "code",
   "execution_count": 420,
   "metadata": {},
   "outputs": [],
   "source": [
    "def find_removed(removed_file, arr, nams):\n",
    "    '''\n",
    "    Replace nucleotides removed by CIAlign with \"!\" so that they are counted as mismatches but\n",
    "    the indices still match the original alignment\n",
    "    '''\n",
    "    lines = [line.strip().split(\"\\t\") for line in open(removed_file).readlines()]\n",
    "    D = {x: set() for x in nams}\n",
    "    for line in lines:\n",
    "        func = line[0]\n",
    "        ids = line[-1].split(\",\")\n",
    "        if func in ['crop_ends', 'remove_insertions']:\n",
    "            ids = [int(x) for x in ids]\n",
    "        if func == \"crop_ends\":\n",
    "            nam = line[1]\n",
    "            D[nam] = D[nam] | set(ids)\n",
    "        elif func == \"remove_insertions\":\n",
    "            for nam in nams:\n",
    "                if D[nam] != \"removed\":\n",
    "                    D[nam] = D[nam] | set(ids)\n",
    "        elif func in [\"remove_divergent\", \"remove_short\"]:\n",
    "            for nam in ids:\n",
    "                D[nam] = \"removed\"\n",
    "\n",
    "    cleannams = copy.copy(nams)\n",
    "    cleannams = np.array(cleannams)\n",
    "    cleanarr = copy.copy(arr)\n",
    "    for nam, val in D.items():\n",
    "        which_nam = np.where(cleannams == nam)[0][0]\n",
    "        if val == \"removed\":\n",
    "            cleannams = np.append(cleannams[:which_nam], cleannams[which_nam + 1:])\n",
    "            cleanarr = np.vstack([cleanarr[:which_nam], cleanarr[which_nam+1:]])\n",
    "        else:\n",
    "            which_pos = np.array(sorted(list(val)))\n",
    "            cleanarr[which_nam, which_pos] = \"!\"\n",
    "    cleanarr[arr == \"-\"] = \"-\"\n",
    "    return (cleanarr)"
   ]
  },
  {
   "cell_type": "code",
   "execution_count": null,
   "metadata": {},
   "outputs": [],
   "source": []
  },
  {
   "cell_type": "code",
   "execution_count": 421,
   "metadata": {},
   "outputs": [],
   "source": [
    "s, s_new, s_test, s_pos = TC_score(\"human_gapdh_EvolveAGene_nt_true.fasta\", \"human_gapdh_clustal_auto_EvolveAGene.fasta\")"
   ]
  },
  {
   "cell_type": "code",
   "execution_count": 422,
   "metadata": {},
   "outputs": [],
   "source": [
    "s, s_c, s_test_c, s_pos_c= TC_score(\"human_gapdh_EvolveAGene_nt_true.fasta\", \"human_gapdh_clustal_auto_EvolveAGene.fasta\", cleaned=True,\n",
    "          cialign_removed=\"CIAlign_removed.txt\")"
   ]
  },
  {
   "cell_type": "code",
   "execution_count": 425,
   "metadata": {},
   "outputs": [
    {
     "data": {
      "text/plain": [
       "array([173, 173, 149, 149, 167, 173, 167, 167, 164, 158, 164, 164, 143,\n",
       "       143, 146, 146])"
      ]
     },
     "execution_count": 425,
     "metadata": {},
     "output_type": "execute_result"
    }
   ],
   "source": [
    "s_pos_c[:,181]"
   ]
  },
  {
   "cell_type": "code",
   "execution_count": 446,
   "metadata": {},
   "outputs": [],
   "source": [
    "one = np.apply_along_axis(lambda x: \"_\".join(x), 0, s_pos_c.astype(str))\n",
    "two = np.apply_along_axis(lambda x: \"_\".join(x), 0, s_pos.astype(str))"
   ]
  },
  {
   "cell_type": "code",
   "execution_count": 447,
   "metadata": {},
   "outputs": [
    {
     "data": {
      "text/plain": [
       "(array([216]),)"
      ]
     },
     "execution_count": 447,
     "metadata": {},
     "output_type": "execute_result"
    }
   ],
   "source": [
    "np.where(np.array(list(two)) == '0_0_0_0_0_0_0_0_0_0_0_0_0_0_181')"
   ]
  },
  {
   "cell_type": "code",
   "execution_count": 454,
   "metadata": {},
   "outputs": [
    {
     "data": {
      "text/plain": [
       "array([  0,   0,   0,   0,   0,   0,   0,   0,   0,   0,   0,   0,   0,\n",
       "         0, 181,   0])"
      ]
     },
     "execution_count": 454,
     "metadata": {},
     "output_type": "execute_result"
    }
   ],
   "source": [
    "s_pos[:, 216]"
   ]
  },
  {
   "cell_type": "code",
   "execution_count": 460,
   "metadata": {},
   "outputs": [
    {
     "data": {
      "text/plain": [
       "array([[207,   0,   0,   0, 208],\n",
       "       [207,   0,   0,   0, 208],\n",
       "       [183,   0,   0,   0, 184],\n",
       "       [183,   0,   0,   0, 184],\n",
       "       [201,   0,   0,   0, 202],\n",
       "       [207,   0,   0,   0, 208],\n",
       "       [195,   0,   0,   0, 196],\n",
       "       [195,   0,   0,   0, 196],\n",
       "       [198,   0,   0,   0, 199],\n",
       "       [192,   0,   0,   0, 193],\n",
       "       [198,   0,   0,   0, 199],\n",
       "       [198,   0,   0,   0, 199],\n",
       "       [177,   0,   0,   0, 178],\n",
       "       [177,   0,   0,   0, 178],\n",
       "       [180, 181, 182, 183, 184],\n",
       "       [180,   0,   0,   0, 181]])"
      ]
     },
     "execution_count": 460,
     "metadata": {},
     "output_type": "execute_result"
    }
   ],
   "source": [
    "s_pos[:, 215:220]"
   ]
  },
  {
   "cell_type": "code",
   "execution_count": 462,
   "metadata": {},
   "outputs": [
    {
     "data": {
      "text/plain": [
       "array([[ 207,    0,    0,    0,  208],\n",
       "       [ 207,    0,    0,    0,  208],\n",
       "       [ 183,    0,    0,    0,  184],\n",
       "       [ 183,    0,    0,    0,  184],\n",
       "       [ 201,    0,    0,    0,  202],\n",
       "       [ 207,    0,    0,    0,  208],\n",
       "       [ 195,    0,    0,    0,  196],\n",
       "       [ 195,    0,    0,    0,  196],\n",
       "       [ 198,    0,    0,    0,  199],\n",
       "       [ 192,    0,    0,    0,  193],\n",
       "       [ 198,    0,    0,    0,  199],\n",
       "       [ 198,    0,    0,    0,  199],\n",
       "       [ 177,    0,    0,    0,  178],\n",
       "       [ 177,    0,    0,    0,  178],\n",
       "       [ 180, 9999, 9999, 9999,  184],\n",
       "       [ 180,    0,    0,    0,  181]])"
      ]
     },
     "execution_count": 462,
     "metadata": {},
     "output_type": "execute_result"
    }
   ],
   "source": [
    "s_pos_c[:,215:220]"
   ]
  },
  {
   "cell_type": "code",
   "execution_count": 430,
   "metadata": {},
   "outputs": [
    {
     "data": {
      "text/plain": [
       "{'0_0_0_0_0_0_0_0_0_0_0_0_0_0_181',\n",
       " '0_0_0_0_0_0_0_0_0_0_0_0_0_0_182',\n",
       " '0_0_0_0_0_0_0_0_0_0_0_0_0_0_183',\n",
       " '0_0_0_0_0_0_0_0_0_0_0_0_0_0_743',\n",
       " '0_0_0_0_0_0_0_0_0_0_0_0_0_0_744',\n",
       " '0_0_0_0_0_0_0_0_0_0_0_0_0_0_745',\n",
       " '0_0_0_0_0_0_0_0_0_0_0_773_0_0_0',\n",
       " '0_0_0_0_0_0_0_0_0_0_0_774_0_0_0',\n",
       " '0_0_0_0_0_0_0_0_0_0_0_775_0_0_0',\n",
       " '0_0_0_0_0_0_0_0_0_0_0_776_0_0_0',\n",
       " '0_0_0_0_0_0_0_0_0_0_0_777_0_0_0',\n",
       " '0_0_0_0_0_0_0_0_0_0_0_778_0_0_0',\n",
       " '0_0_0_0_0_0_0_0_0_0_0_779_0_0_0',\n",
       " '0_0_0_0_0_0_0_0_0_0_0_780_0_0_0',\n",
       " '0_0_0_0_0_0_0_0_0_0_0_781_0_0_0',\n",
       " '0_0_0_0_0_0_0_0_0_0_453_0_0_0_0',\n",
       " '0_0_0_0_0_0_0_0_0_0_454_0_0_0_0',\n",
       " '0_0_0_0_0_0_0_0_0_0_455_0_0_0_0',\n",
       " '0_0_0_0_0_0_0_0_0_0_456_0_0_0_0',\n",
       " '0_0_0_0_0_0_0_0_0_0_457_0_0_0_0',\n",
       " '0_0_0_0_0_0_0_0_0_0_458_461_0_0',\n",
       " '0_0_0_0_0_0_0_0_0_0_459_462_459',\n",
       " '0_0_0_0_0_0_0_0_0_0_460_463_460',\n",
       " '0_0_0_0_0_0_0_0_0_0_521_524_521',\n",
       " '0_0_0_0_0_0_0_0_0_0_522_525_522',\n",
       " '0_0_0_0_0_0_0_0_0_0_523_526_523',\n",
       " '0_0_0_0_0_0_0_0_0_0_524_527_524',\n",
       " '0_0_0_0_0_0_0_0_0_0_525_528_525',\n",
       " '0_0_0_0_0_0_0_0_0_0_526_529_526',\n",
       " '0_0_0_0_0_0_0_0_420_405_0_0_396',\n",
       " '0_0_0_0_0_0_0_0_421_406_0_0_397',\n",
       " '0_0_0_0_0_0_0_0_422_407_0_0_398',\n",
       " '0_0_0_0_0_0_0_0_666_690_0_0_0_0',\n",
       " '0_0_0_0_0_0_0_0_667_691_0_0_0_0',\n",
       " '0_0_0_0_0_0_0_0_668_692_0_0_0_0',\n",
       " '0_0_0_0_0_0_0_0_669_693_0_0_0_0',\n",
       " '0_0_0_0_0_0_0_0_670_694_0_0_0_0',\n",
       " '0_0_0_0_0_0_0_0_671_695_0_0_0_0',\n",
       " '0_0_0_0_0_0_0_0_672_696_0_0_0_0',\n",
       " '0_0_0_0_0_0_0_0_673_697_0_0_0_0',\n",
       " '0_0_0_0_0_0_0_0_674_698_0_0_0_0',\n",
       " '0_0_0_0_0_0_0_0_675_699_0_0_0_0',\n",
       " '0_0_0_0_0_0_0_0_676_700_0_0_0_0',\n",
       " '0_0_0_0_0_0_0_0_677_701_0_0_0_0',\n",
       " '0_0_0_0_0_0_0_0_678_702_0_0_0_0',\n",
       " '0_0_0_0_0_0_0_0_679_703_664_0_6',\n",
       " '0_0_0_0_0_0_0_0_680_704_665_0_6',\n",
       " '0_0_0_0_0_0_0_0_762_789_0_0_0_0',\n",
       " '0_0_0_0_0_0_0_0_763_790_0_0_0_0',\n",
       " '0_0_0_0_0_0_0_0_764_791_0_0_0_0',\n",
       " '0_0_0_0_0_0_0_0_765_792_0_0_0_0',\n",
       " '0_0_0_0_0_0_0_0_766_0_0_0_0_0_0',\n",
       " '0_0_0_0_0_0_0_0_767_0_0_0_0_0_0',\n",
       " '0_0_0_0_0_0_671_692_704_728_0_0',\n",
       " '0_0_0_0_0_0_672_693_705_729_0_0',\n",
       " '0_0_0_0_0_0_673_694_706_730_0_0',\n",
       " '0_0_0_0_846_858_0_0_0_0_0_0_0_0',\n",
       " '0_0_0_0_847_859_0_0_0_0_0_0_0_0',\n",
       " '0_0_0_0_848_860_0_0_0_0_0_0_0_0',\n",
       " '0_0_0_0_91_97_91_91_0_0_0_0_0_0',\n",
       " '0_0_0_0_92_98_92_92_0_0_0_0_0_0',\n",
       " '0_0_0_0_93_99_93_93_0_0_0_0_0_0',\n",
       " '0_0_278_278_0_0_0_0_0_0_0_0_0_0',\n",
       " '0_0_279_279_0_0_0_0_0_0_0_0_0_0',\n",
       " '0_0_280_280_0_0_0_0_0_0_0_0_0_0',\n",
       " '121_121_103_103_0_0_0_0_0_0_0_0',\n",
       " '122_122_104_104_0_0_0_0_0_0_0_0',\n",
       " '123_123_105_105_0_0_0_0_0_0_0_0',\n",
       " '151_151_0_0_0_0_0_0_0_0_0_0_0_0',\n",
       " '152_152_0_0_0_0_0_0_0_0_0_0_0_0',\n",
       " '153_153_0_0_0_0_0_0_0_0_0_0_0_0',\n",
       " '154_154_0_0_0_0_0_0_0_0_0_0_0_0',\n",
       " '155_155_0_0_0_0_0_0_0_0_0_0_0_0',\n",
       " '156_156_0_0_0_0_0_0_0_0_0_0_0_0',\n",
       " '249_249_216_216_0_0_0_0_0_0_0_0',\n",
       " '250_250_217_217_0_0_0_0_0_0_0_0',\n",
       " '251_251_218_218_0_0_0_0_0_0_0_0',\n",
       " '350_350_0_0_0_0_0_0_0_0_0_0_0_0',\n",
       " '351_351_0_0_0_0_0_0_0_0_0_0_0_0',\n",
       " '352_352_319_319_0_0_0_0_0_0_0_0',\n",
       " '353_353_320_320_0_0_0_0_0_0_0_0',\n",
       " '354_354_321_321_0_0_0_0_0_0_0_0',\n",
       " '355_355_322_322_0_0_0_0_0_0_0_0',\n",
       " '356_356_323_323_0_0_0_0_0_0_0_0',\n",
       " '357_357_324_0_0_0_0_0_0_0_0_0_0',\n",
       " '358_358_325_0_0_0_0_0_0_0_0_0_0',\n",
       " '359_359_326_0_0_0_0_0_0_0_0_0_0',\n",
       " '360_360_327_0_0_0_0_0_0_0_0_0_0',\n",
       " '361_361_328_0_0_0_0_0_0_0_0_0_0',\n",
       " '362_362_329_0_0_0_0_0_0_0_0_0_0',\n",
       " '363_363_330_324_0_0_0_0_0_0_0_0',\n",
       " '364_364_331_325_0_0_0_0_0_0_0_0',\n",
       " '628_628_589_592_0_0_0_0_0_0_0_0',\n",
       " '629_629_590_593_0_0_0_0_0_0_0_0',\n",
       " '630_630_591_594_0_0_0_0_0_0_0_0'}"
      ]
     },
     "execution_count": 430,
     "metadata": {},
     "output_type": "execute_result"
    }
   ],
   "source": [
    "s_new - s_c"
   ]
  },
  {
   "cell_type": "code",
   "execution_count": 341,
   "metadata": {},
   "outputs": [
    {
     "data": {
      "text/plain": [
       "array([[  0,   0,   0,  91],\n",
       "       [  0,   0,   0,  91],\n",
       "       [  0,   0,   0,  73],\n",
       "       [  0,   0,   0,  73],\n",
       "       [ 91,  92,  93,  94],\n",
       "       [ 97,  98,  99, 100],\n",
       "       [ 91,  92,  93,  94],\n",
       "       [ 91,  92,  93,  94],\n",
       "       [  0,   0,   0,  91],\n",
       "       [  0,   0,   0,  85],\n",
       "       [  0,   0,   0,  91],\n",
       "       [  0,   0,   0,  91],\n",
       "       [  0,   0,   0,   0],\n",
       "       [  0,   0,   0,   0],\n",
       "       [  0,   0,   0,   0],\n",
       "       [  0,   0,   0,   0]])"
      ]
     },
     "execution_count": 341,
     "metadata": {},
     "output_type": "execute_result"
    }
   ],
   "source": [
    "pt[:, 96:100]"
   ]
  },
  {
   "cell_type": "code",
   "execution_count": 342,
   "metadata": {},
   "outputs": [
    {
     "data": {
      "text/plain": [
       "array([['-', '-', '-', 'G'],\n",
       "       ['-', '-', '-', 'G'],\n",
       "       ['-', '-', '-', 'G'],\n",
       "       ['-', '-', '-', 'G'],\n",
       "       ['!', '!', '!', 'G'],\n",
       "       ['!', '!', '!', 'G'],\n",
       "       ['!', '!', '!', 'G'],\n",
       "       ['!', '!', '!', 'G'],\n",
       "       ['-', '-', '-', 'G'],\n",
       "       ['-', '-', '-', 'G'],\n",
       "       ['-', '-', '-', 'G'],\n",
       "       ['-', '-', '-', 'G'],\n",
       "       ['-', '-', '-', '-'],\n",
       "       ['-', '-', '-', '-'],\n",
       "       ['-', '-', '-', '-'],\n",
       "       ['-', '-', '-', '-']], dtype='<U1')"
      ]
     },
     "execution_count": 342,
     "metadata": {},
     "output_type": "execute_result"
    }
   ],
   "source": [
    "tc[:, 96:100]"
   ]
  },
  {
   "cell_type": "code",
   "execution_count": 335,
   "metadata": {},
   "outputs": [
    {
     "data": {
      "text/plain": [
       "array([['-', '-', '-', 'G'],\n",
       "       ['-', '-', '-', 'G'],\n",
       "       ['-', '-', '-', 'G'],\n",
       "       ['-', '-', '-', 'G'],\n",
       "       ['A', 'T', 'A', 'G'],\n",
       "       ['T', 'T', 'T', 'G'],\n",
       "       ['A', 'T', 'C', 'G'],\n",
       "       ['A', 'T', 'T', 'G'],\n",
       "       ['-', '-', '-', 'G'],\n",
       "       ['-', '-', '-', 'G'],\n",
       "       ['-', '-', '-', 'G'],\n",
       "       ['-', '-', '-', 'G'],\n",
       "       ['-', '-', '-', '-'],\n",
       "       ['-', '-', '-', '-'],\n",
       "       ['-', '-', '-', '-'],\n",
       "       ['-', '-', '-', '-']], dtype='<U1')"
      ]
     },
     "execution_count": 335,
     "metadata": {},
     "output_type": "execute_result"
    }
   ],
   "source": [
    "ta[:, 96:100]"
   ]
  },
  {
   "cell_type": "code",
   "execution_count": 287,
   "metadata": {},
   "outputs": [
    {
     "data": {
      "text/plain": [
       "array([0, 0, 0, 0, 0, 1, 0, 0, 0, 0, 0, 0, 0, 0, 0, 0])"
      ]
     },
     "execution_count": 287,
     "metadata": {},
     "output_type": "execute_result"
    }
   ],
   "source": [
    "pc[:,0]"
   ]
  },
  {
   "cell_type": "code",
   "execution_count": 306,
   "metadata": {},
   "outputs": [
    {
     "data": {
      "text/plain": [
       "array([  0,   0,   0,   0,   0,   0,   0,   0, 666, 690,   0,   0,   0,\n",
       "         0,   0,   0])"
      ]
     },
     "execution_count": 306,
     "metadata": {},
     "output_type": "execute_result"
    }
   ],
   "source": [
    "pt[:,773]"
   ]
  },
  {
   "cell_type": "code",
   "execution_count": 307,
   "metadata": {},
   "outputs": [
    {
     "data": {
      "text/plain": [
       "array([749, 749, 715, 724, 740, 752, 713, 728, 719, 743, 706, 718, 724,\n",
       "       724, 727, 736])"
      ]
     },
     "execution_count": 307,
     "metadata": {},
     "output_type": "execute_result"
    }
   ],
   "source": [
    "pc[:,773]"
   ]
  },
  {
   "cell_type": "code",
   "execution_count": 237,
   "metadata": {},
   "outputs": [],
   "source": [
    "cleanarr = find_removed(\"CIAlign_removed.txt\", arr, nams)"
   ]
  },
  {
   "cell_type": "code",
   "execution_count": 304,
   "metadata": {},
   "outputs": [
    {
     "data": {
      "text/plain": [
       "array(['!', '!', '!', '!', '!', '!', '!', '!', '!', '!', '!', '!', '!',\n",
       "       '!', '!', '!'], dtype='<U1')"
      ]
     },
     "execution_count": 304,
     "metadata": {},
     "output_type": "execute_result"
    }
   ],
   "source": [
    "tc[:, 773]"
   ]
  },
  {
   "cell_type": "code",
   "execution_count": null,
   "metadata": {},
   "outputs": [],
   "source": []
  },
  {
   "cell_type": "code",
   "execution_count": 239,
   "metadata": {},
   "outputs": [
    {
     "data": {
      "text/plain": [
       "array([['A', 'T', 'G', ..., 'T', 'A', 'A'],\n",
       "       ['A', 'T', 'G', ..., 'T', 'A', 'A'],\n",
       "       ['!', '!', '!', ..., 'A', 'A', 'A'],\n",
       "       ...,\n",
       "       ['A', 'T', 'G', ..., 'T', 'A', 'A'],\n",
       "       ['A', 'T', 'G', ..., 'T', 'A', 'A'],\n",
       "       ['A', 'T', 'G', ..., 'T', 'A', 'A']], dtype='<U1')"
      ]
     },
     "execution_count": 239,
     "metadata": {},
     "output_type": "execute_result"
    }
   ],
   "source": [
    "cleanarr"
   ]
  },
  {
   "cell_type": "code",
   "execution_count": 216,
   "metadata": {},
   "outputs": [
    {
     "name": "stdout",
     "output_type": "stream",
     "text": [
      "no\n",
      "no\n",
      "no\n",
      "no\n",
      "no\n",
      "no\n",
      "no\n",
      "no\n",
      "no\n",
      "no\n",
      "no\n",
      "no\n",
      "no\n",
      "no\n",
      "no\n"
     ]
    }
   ],
   "source": []
  },
  {
   "cell_type": "code",
   "execution_count": 209,
   "metadata": {},
   "outputs": [
    {
     "data": {
      "text/plain": [
       "'ATGGGGAAAATGAAGGTCGGAGTTTACTGTTTCGGGAGTCGAGGCAGCCTTGTCACGAGAGCAGCATTTAATAGAGGAAAAATTTATATCGAGGCAATTAACTTTATAGTATATATGGTTAGAGACGAGTCTACCCATGGTAGATTTCATGGGACCATTGAGGCCGAAATAGGAATTCGTGTTAGCAATGGAAACCCCATTACCATTTATCAGGAACAAGTAAAGTCTAAAATAAATTGTAGCGACGTAGGGGCGGAATATGTAGTAGAATCTACTGGTGTGTTCATAACTATGGAAGAAGCTAGGTCACGTTTATTGGGCGGTGAAAAAAGAGTAATTATATCGGCGCCGTCGGTAGAGGTACCATTGTTTGGTATGGGCGTTAAACAGGAGAAGTACGACAACATTCTAAAATTAATTAGTATACCATCTTTGACAGCGAACCTATTAGCGCTAGTAGCAAAGATTCTCCAGGGAAATGGCTTAATGACTCGAGTTCATGCCATATCAGCGCCACAAAAAACGGTAACGGGTCCAATAGAAAATTTATGGAGGGATGGGAGAGGTGCACTACCCAATATAATCCCTGCATCGACCGGGGCGGCAAAAGCGGGTGGCAAGGTTATCCCAGATCTAAATGGTCAGCGAACCGGTCTGTCTGTTAGTGTGCCAACAGCTAATGTTGCAGTAGTGGCGCTTACCTGCCGCCTCGAAAGACCGGCAAAATATGACGATATCACACAATTAGTGATACAAGCCTCAGAGGGTCCGCTAAAGTGGATCTCAGATTATACTAAATTGCCAGTTGTGTCGTCTGACTTCATTAGTGACAGACATTCTTCAACATTCGATGTCGTCGCAGAACTCGCTTTGAATGTTCACTTCGTAAAATTTATATTTTGGTATGACAATGAAGTAGGATTTAGTAACCGGGTAGGGGATCCAATGGCACACTTGGCGTCTCAAGATTAA'"
      ]
     },
     "execution_count": 209,
     "metadata": {},
     "output_type": "execute_result"
    }
   ],
   "source": [
    "str2"
   ]
  },
  {
   "cell_type": "code",
   "execution_count": 181,
   "metadata": {},
   "outputs": [
    {
     "ename": "SyntaxError",
     "evalue": "invalid syntax (<ipython-input-181-e58342f4565a>, line 1)",
     "output_type": "error",
     "traceback": [
      "\u001b[0;36m  File \u001b[0;32m\"<ipython-input-181-e58342f4565a>\"\u001b[0;36m, line \u001b[0;32m1\u001b[0m\n\u001b[0;31m    which_nam which_pos\u001b[0m\n\u001b[0m                      ^\u001b[0m\n\u001b[0;31mSyntaxError\u001b[0m\u001b[0;31m:\u001b[0m invalid syntax\n"
     ]
    }
   ],
   "source": [
    "which_nam which_pos"
   ]
  },
  {
   "cell_type": "code",
   "execution_count": 167,
   "metadata": {},
   "outputs": [],
   "source": []
  },
  {
   "cell_type": "code",
   "execution_count": 116,
   "metadata": {},
   "outputs": [
    {
     "ename": "IndexError",
     "evalue": "index 1260 is out of bounds for axis 1 with size 999",
     "output_type": "error",
     "traceback": [
      "\u001b[0;31m---------------------------------------------------------------------------\u001b[0m",
      "\u001b[0;31mIndexError\u001b[0m                                Traceback (most recent call last)",
      "\u001b[0;32m<ipython-input-116-0e25ef6637a0>\u001b[0m in \u001b[0;36m<module>\u001b[0;34m\u001b[0m\n\u001b[0;32m----> 1\u001b[0;31m \u001b[0marr2\u001b[0m\u001b[0;34m[\u001b[0m\u001b[0;34m-\u001b[0m\u001b[0;36m4\u001b[0m\u001b[0;34m,\u001b[0m \u001b[0mnp\u001b[0m\u001b[0;34m.\u001b[0m\u001b[0marray\u001b[0m\u001b[0;34m(\u001b[0m\u001b[0mlist\u001b[0m\u001b[0;34m(\u001b[0m\u001b[0mD\u001b[0m\u001b[0;34m[\u001b[0m\u001b[0;34m'A13'\u001b[0m\u001b[0;34m]\u001b[0m\u001b[0;34m)\u001b[0m\u001b[0;34m)\u001b[0m\u001b[0;34m]\u001b[0m\u001b[0;34m\u001b[0m\u001b[0;34m\u001b[0m\u001b[0m\n\u001b[0m",
      "\u001b[0;31mIndexError\u001b[0m: index 1260 is out of bounds for axis 1 with size 999"
     ]
    }
   ],
   "source": [
    "arr2[-4, np.array(list(D['A13']))]"
   ]
  },
  {
   "cell_type": "code",
   "execution_count": 117,
   "metadata": {},
   "outputs": [
    {
     "data": {
      "text/plain": [
       "(16, 1272)"
      ]
     },
     "execution_count": 117,
     "metadata": {},
     "output_type": "execute_result"
    }
   ],
   "source": [
    "np.shape(arr)"
   ]
  },
  {
   "cell_type": "code",
   "execution_count": 118,
   "metadata": {},
   "outputs": [
    {
     "data": {
      "text/plain": [
       "array(['A', 'T', 'T', 'T', 'A', 'T', 'A', 'T', 'C', 'A', 'T', 'G', 'G',\n",
       "       'T', 'A', 'T', 'G', 'A', 'T', 'A', 'A', 'T', 'G', 'A', 'G', 'G',\n",
       "       'T', 'T', 'G', 'G', 'G', 'T', 'A', 'T', 'G', 'G', 'G', 'A', 'A',\n",
       "       'T', 'A', 'G', 'A', 'G', 'T', 'G', '-', '-', '-', '-', '-', '-',\n",
       "       '-', '-', '-', 'G', 'T', 'C', '-', '-', '-', '-', '-', '-', '-',\n",
       "       '-', '-', '-', '-', '-', '-', '-', '-', '-', '-', '-', '-', '-',\n",
       "       '-', '-', '-', '-', '-', '-', '-', '-', '-', '-', 'T', 'C', 'A',\n",
       "       'C', 'A', 'C', 'G', 'T', 'T', 'T', 'A', 'A'], dtype='<U1')"
      ]
     },
     "execution_count": 118,
     "metadata": {},
     "output_type": "execute_result"
    }
   ],
   "source": [
    "arr[-4, -100:]"
   ]
  },
  {
   "cell_type": "code",
   "execution_count": 122,
   "metadata": {},
   "outputs": [
    {
     "data": {
      "text/plain": [
       "array(['T', 'C', 'A', 'C', 'A', 'C', 'G', 'T', 'T', 'T', 'A', 'A'],\n",
       "      dtype='<U1')"
      ]
     },
     "execution_count": 122,
     "metadata": {},
     "output_type": "execute_result"
    }
   ],
   "source": [
    "arr[-4, np.array(sorted(list(D['A13'])))]"
   ]
  },
  {
   "cell_type": "code",
   "execution_count": 226,
   "metadata": {},
   "outputs": [],
   "source": [
    "arr, nams = utilityFunctions.FastaToArray(\"human_gapdh_EvolveAGene_nt_true.fasta\")"
   ]
  },
  {
   "cell_type": "code",
   "execution_count": 227,
   "metadata": {},
   "outputs": [],
   "source": [
    "arr2, nams2 = utilityFunctions.FastaToArray(\"CIAlign_cleaned.fasta\")"
   ]
  },
  {
   "cell_type": "code",
   "execution_count": 84,
   "metadata": {},
   "outputs": [
    {
     "data": {
      "text/plain": [
       "['A1',\n",
       " 'A2',\n",
       " 'A3',\n",
       " 'A4',\n",
       " 'A5',\n",
       " 'A6',\n",
       " 'A7',\n",
       " 'A8',\n",
       " 'A9',\n",
       " 'A10',\n",
       " 'A11',\n",
       " 'A12',\n",
       " 'A13',\n",
       " 'A14',\n",
       " 'A15',\n",
       " 'A16']"
      ]
     },
     "execution_count": 84,
     "metadata": {},
     "output_type": "execute_result"
    }
   ],
   "source": [
    "nams"
   ]
  },
  {
   "cell_type": "code",
   "execution_count": 38,
   "metadata": {},
   "outputs": [
    {
     "data": {
      "text/plain": [
       "['A1', 'A2', 'A9', 'A14', 'A15', 'A16']"
      ]
     },
     "execution_count": 38,
     "metadata": {},
     "output_type": "execute_result"
    }
   ],
   "source": [
    "nams2"
   ]
  },
  {
   "cell_type": "code",
   "execution_count": 39,
   "metadata": {},
   "outputs": [
    {
     "data": {
      "text/plain": [
       "array([['A', 'T', 'G', ..., 'T', 'A', 'A'],\n",
       "       ['A', 'T', 'G', ..., 'T', 'A', 'A'],\n",
       "       ['A', 'T', 'G', ..., 'A', 'A', 'A'],\n",
       "       ...,\n",
       "       ['A', 'T', 'G', ..., 'T', 'A', 'A'],\n",
       "       ['A', 'T', 'G', ..., 'T', 'A', 'A'],\n",
       "       ['A', 'T', 'G', ..., 'T', 'A', 'A']], dtype='<U1')"
      ]
     },
     "execution_count": 39,
     "metadata": {},
     "output_type": "execute_result"
    }
   ],
   "source": [
    "arr"
   ]
  },
  {
   "cell_type": "code",
   "execution_count": null,
   "metadata": {},
   "outputs": [],
   "source": []
  }
 ],
 "metadata": {
  "kernelspec": {
   "display_name": "Python 3",
   "language": "python",
   "name": "python3"
  },
  "language_info": {
   "codemirror_mode": {
    "name": "ipython",
    "version": 3
   },
   "file_extension": ".py",
   "mimetype": "text/x-python",
   "name": "python",
   "nbconvert_exporter": "python",
   "pygments_lexer": "ipython3",
   "version": "3.6.10"
  }
 },
 "nbformat": 4,
 "nbformat_minor": 4
}
